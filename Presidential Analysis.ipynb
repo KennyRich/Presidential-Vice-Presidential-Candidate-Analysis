{
 "cells": [
  {
   "cell_type": "code",
   "execution_count": 1,
   "metadata": {},
   "outputs": [],
   "source": [
    "import numpy as np\n",
    "%matplotlib inline\n",
    "import matplotlib.pyplot as plt\n",
    "import pandas as pd\n",
    "import seaborn as sns\n",
    "color=sns.color_palette()\n",
    "sns.set_style('darkgrid')\n",
    "\n",
    "import warnings\n",
    "def ignore_warn(*args, **kwargs):\n",
    "    pass\n",
    "warnings.warn =ignore_warn #warnings from sklearn and seaborn"
   ]
  },
  {
   "cell_type": "code",
   "execution_count": 2,
   "metadata": {},
   "outputs": [],
   "source": [
    "df=pd.read_csv(r'''C:\\Users\\kenny\\Desktop\\DataScience Related Affair\\President and VP analysis\\President and VP data Cleaned.csv''')"
   ]
  },
  {
   "cell_type": "markdown",
   "metadata": {},
   "source": [
    "The above data is the cleaned version of the original data set. All the cleaning was done in Excel using Power Query"
   ]
  },
  {
   "cell_type": "code",
   "execution_count": 3,
   "metadata": {
    "scrolled": true
   },
   "outputs": [
    {
     "data": {
      "text/html": [
       "<div>\n",
       "<style scoped>\n",
       "    .dataframe tbody tr th:only-of-type {\n",
       "        vertical-align: middle;\n",
       "    }\n",
       "\n",
       "    .dataframe tbody tr th {\n",
       "        vertical-align: top;\n",
       "    }\n",
       "\n",
       "    .dataframe thead th {\n",
       "        text-align: right;\n",
       "    }\n",
       "</style>\n",
       "<table border=\"1\" class=\"dataframe\">\n",
       "  <thead>\n",
       "    <tr style=\"text-align: right;\">\n",
       "      <th></th>\n",
       "      <th>POSITION</th>\n",
       "      <th>NAME OF CANDIDATE</th>\n",
       "      <th>PARTY</th>\n",
       "      <th>AGE</th>\n",
       "      <th>GENDER</th>\n",
       "      <th>HIGHEST QUALIFICATION</th>\n",
       "    </tr>\n",
       "  </thead>\n",
       "  <tbody>\n",
       "    <tr>\n",
       "      <th>0</th>\n",
       "      <td>PRESIDENT</td>\n",
       "      <td>OSITELU  ISAAC BABATUNDE</td>\n",
       "      <td>A</td>\n",
       "      <td>64</td>\n",
       "      <td>M</td>\n",
       "      <td>MSc</td>\n",
       "    </tr>\n",
       "    <tr>\n",
       "      <th>1</th>\n",
       "      <td>VICE-</td>\n",
       "      <td>LAWAL NAFIU MUHAMMAD</td>\n",
       "      <td>A</td>\n",
       "      <td>33</td>\n",
       "      <td>M</td>\n",
       "      <td>BSc</td>\n",
       "    </tr>\n",
       "    <tr>\n",
       "      <th>2</th>\n",
       "      <td>PRESIDENT</td>\n",
       "      <td>ABDULRASHID HASSAN BABA</td>\n",
       "      <td>AA</td>\n",
       "      <td>46</td>\n",
       "      <td>M</td>\n",
       "      <td>SSCE</td>\n",
       "    </tr>\n",
       "    <tr>\n",
       "      <th>3</th>\n",
       "      <td>VICE-</td>\n",
       "      <td>UCHENDU UJU PEACE OZOKA</td>\n",
       "      <td>AA</td>\n",
       "      <td>49</td>\n",
       "      <td>F</td>\n",
       "      <td>LLB</td>\n",
       "    </tr>\n",
       "    <tr>\n",
       "      <th>4</th>\n",
       "      <td>PRESIDENT</td>\n",
       "      <td>OMOYELE SOWORE</td>\n",
       "      <td>AAC</td>\n",
       "      <td>47</td>\n",
       "      <td>M</td>\n",
       "      <td>SSCE</td>\n",
       "    </tr>\n",
       "    <tr>\n",
       "      <th>5</th>\n",
       "      <td>VICE-</td>\n",
       "      <td>RUFAI RABIU AHMED</td>\n",
       "      <td>AAC</td>\n",
       "      <td>42</td>\n",
       "      <td>M</td>\n",
       "      <td>MPH</td>\n",
       "    </tr>\n",
       "    <tr>\n",
       "      <th>6</th>\n",
       "      <td>PRESIDENT</td>\n",
       "      <td>CHIKE UKAEGBU</td>\n",
       "      <td>AAP</td>\n",
       "      <td>35</td>\n",
       "      <td>M</td>\n",
       "      <td>BSc</td>\n",
       "    </tr>\n",
       "    <tr>\n",
       "      <th>7</th>\n",
       "      <td>VICE-</td>\n",
       "      <td>SAFIYA IBRAHIM OGOH</td>\n",
       "      <td>AAP</td>\n",
       "      <td>47</td>\n",
       "      <td>F</td>\n",
       "      <td>BA</td>\n",
       "    </tr>\n",
       "    <tr>\n",
       "      <th>8</th>\n",
       "      <td>PRESIDENT</td>\n",
       "      <td>SHIPI MOSES GODIA</td>\n",
       "      <td>ABP</td>\n",
       "      <td>39</td>\n",
       "      <td>M</td>\n",
       "      <td>SSCE</td>\n",
       "    </tr>\n",
       "    <tr>\n",
       "      <th>9</th>\n",
       "      <td>VICE-</td>\n",
       "      <td>OKWUANYASI ABIOLA KIKA SHALIAT</td>\n",
       "      <td>ABP</td>\n",
       "      <td>44</td>\n",
       "      <td>F</td>\n",
       "      <td>BSc</td>\n",
       "    </tr>\n",
       "  </tbody>\n",
       "</table>\n",
       "</div>"
      ],
      "text/plain": [
       "    POSITION               NAME OF CANDIDATE PARTY  AGE GENDER  \\\n",
       "0  PRESIDENT        OSITELU  ISAAC BABATUNDE     A   64      M   \n",
       "1      VICE-            LAWAL NAFIU MUHAMMAD     A   33      M   \n",
       "2  PRESIDENT         ABDULRASHID HASSAN BABA    AA   46      M   \n",
       "3      VICE-         UCHENDU UJU PEACE OZOKA    AA   49      F   \n",
       "4  PRESIDENT                  OMOYELE SOWORE   AAC   47      M   \n",
       "5      VICE-               RUFAI RABIU AHMED   AAC   42      M   \n",
       "6  PRESIDENT                   CHIKE UKAEGBU   AAP   35      M   \n",
       "7      VICE-             SAFIYA IBRAHIM OGOH   AAP   47      F   \n",
       "8  PRESIDENT               SHIPI MOSES GODIA   ABP   39      M   \n",
       "9      VICE-  OKWUANYASI ABIOLA KIKA SHALIAT   ABP   44      F   \n",
       "\n",
       "  HIGHEST QUALIFICATION  \n",
       "0                   MSc  \n",
       "1                   BSc  \n",
       "2                  SSCE  \n",
       "3                   LLB  \n",
       "4                  SSCE  \n",
       "5                   MPH  \n",
       "6                   BSc  \n",
       "7                    BA  \n",
       "8                  SSCE  \n",
       "9                   BSc  "
      ]
     },
     "execution_count": 3,
     "metadata": {},
     "output_type": "execute_result"
    }
   ],
   "source": [
    "df.head(10)"
   ]
  },
  {
   "cell_type": "code",
   "execution_count": 4,
   "metadata": {},
   "outputs": [
    {
     "name": "stdout",
     "output_type": "stream",
     "text": [
      "<class 'pandas.core.frame.DataFrame'>\n",
      "RangeIndex: 144 entries, 0 to 143\n",
      "Data columns (total 6 columns):\n",
      "POSITION                 144 non-null object\n",
      "NAME OF CANDIDATE        144 non-null object\n",
      "PARTY                    144 non-null object\n",
      "AGE                      144 non-null int64\n",
      "GENDER                   144 non-null object\n",
      "HIGHEST QUALIFICATION    144 non-null object\n",
      "dtypes: int64(1), object(5)\n",
      "memory usage: 6.8+ KB\n"
     ]
    }
   ],
   "source": [
    "df.info()"
   ]
  },
  {
   "cell_type": "code",
   "execution_count": 5,
   "metadata": {},
   "outputs": [
    {
     "data": {
      "text/html": [
       "<div>\n",
       "<style scoped>\n",
       "    .dataframe tbody tr th:only-of-type {\n",
       "        vertical-align: middle;\n",
       "    }\n",
       "\n",
       "    .dataframe tbody tr th {\n",
       "        vertical-align: top;\n",
       "    }\n",
       "\n",
       "    .dataframe thead th {\n",
       "        text-align: right;\n",
       "    }\n",
       "</style>\n",
       "<table border=\"1\" class=\"dataframe\">\n",
       "  <thead>\n",
       "    <tr style=\"text-align: right;\">\n",
       "      <th></th>\n",
       "      <th>AGE</th>\n",
       "    </tr>\n",
       "  </thead>\n",
       "  <tbody>\n",
       "    <tr>\n",
       "      <th>count</th>\n",
       "      <td>144.000000</td>\n",
       "    </tr>\n",
       "    <tr>\n",
       "      <th>mean</th>\n",
       "      <td>49.888889</td>\n",
       "    </tr>\n",
       "    <tr>\n",
       "      <th>std</th>\n",
       "      <td>9.844320</td>\n",
       "    </tr>\n",
       "    <tr>\n",
       "      <th>min</th>\n",
       "      <td>30.000000</td>\n",
       "    </tr>\n",
       "    <tr>\n",
       "      <th>25%</th>\n",
       "      <td>42.000000</td>\n",
       "    </tr>\n",
       "    <tr>\n",
       "      <th>50%</th>\n",
       "      <td>48.500000</td>\n",
       "    </tr>\n",
       "    <tr>\n",
       "      <th>75%</th>\n",
       "      <td>57.000000</td>\n",
       "    </tr>\n",
       "    <tr>\n",
       "      <th>max</th>\n",
       "      <td>76.000000</td>\n",
       "    </tr>\n",
       "  </tbody>\n",
       "</table>\n",
       "</div>"
      ],
      "text/plain": [
       "              AGE\n",
       "count  144.000000\n",
       "mean    49.888889\n",
       "std      9.844320\n",
       "min     30.000000\n",
       "25%     42.000000\n",
       "50%     48.500000\n",
       "75%     57.000000\n",
       "max     76.000000"
      ]
     },
     "execution_count": 5,
     "metadata": {},
     "output_type": "execute_result"
    }
   ],
   "source": [
    "df.describe()"
   ]
  },
  {
   "cell_type": "code",
   "execution_count": 6,
   "metadata": {},
   "outputs": [
    {
     "data": {
      "text/html": [
       "<div>\n",
       "<style scoped>\n",
       "    .dataframe tbody tr th:only-of-type {\n",
       "        vertical-align: middle;\n",
       "    }\n",
       "\n",
       "    .dataframe tbody tr th {\n",
       "        vertical-align: top;\n",
       "    }\n",
       "\n",
       "    .dataframe thead th {\n",
       "        text-align: right;\n",
       "    }\n",
       "</style>\n",
       "<table border=\"1\" class=\"dataframe\">\n",
       "  <thead>\n",
       "    <tr style=\"text-align: right;\">\n",
       "      <th></th>\n",
       "      <th>count</th>\n",
       "      <th>unique</th>\n",
       "      <th>top</th>\n",
       "      <th>freq</th>\n",
       "    </tr>\n",
       "  </thead>\n",
       "  <tbody>\n",
       "    <tr>\n",
       "      <th>POSITION</th>\n",
       "      <td>144</td>\n",
       "      <td>2</td>\n",
       "      <td>PRESIDENT</td>\n",
       "      <td>72</td>\n",
       "    </tr>\n",
       "    <tr>\n",
       "      <th>NAME OF CANDIDATE</th>\n",
       "      <td>144</td>\n",
       "      <td>144</td>\n",
       "      <td>IYAN TAMA HAMISU LAMIDO</td>\n",
       "      <td>1</td>\n",
       "    </tr>\n",
       "    <tr>\n",
       "      <th>PARTY</th>\n",
       "      <td>144</td>\n",
       "      <td>72</td>\n",
       "      <td>NUP</td>\n",
       "      <td>2</td>\n",
       "    </tr>\n",
       "    <tr>\n",
       "      <th>GENDER</th>\n",
       "      <td>144</td>\n",
       "      <td>2</td>\n",
       "      <td>M</td>\n",
       "      <td>116</td>\n",
       "    </tr>\n",
       "    <tr>\n",
       "      <th>HIGHEST QUALIFICATION</th>\n",
       "      <td>144</td>\n",
       "      <td>17</td>\n",
       "      <td>SSCE</td>\n",
       "      <td>26</td>\n",
       "    </tr>\n",
       "  </tbody>\n",
       "</table>\n",
       "</div>"
      ],
      "text/plain": [
       "                      count unique                      top freq\n",
       "POSITION                144      2                PRESIDENT   72\n",
       "NAME OF CANDIDATE       144    144  IYAN TAMA HAMISU LAMIDO    1\n",
       "PARTY                   144     72                      NUP    2\n",
       "GENDER                  144      2                        M  116\n",
       "HIGHEST QUALIFICATION   144     17                     SSCE   26"
      ]
     },
     "execution_count": 6,
     "metadata": {},
     "output_type": "execute_result"
    }
   ],
   "source": [
    "df.describe(include=[np.object, pd.Categorical]).T"
   ]
  },
  {
   "cell_type": "code",
   "execution_count": 7,
   "metadata": {},
   "outputs": [
    {
     "name": "stdout",
     "output_type": "stream",
     "text": [
      "\n",
      "For column POSITION\n",
      "PRESIDENT    72\n",
      "VICE-        72\n",
      "Name: POSITION, dtype: int64\n",
      "\n",
      "For column PARTY\n",
      "NUP      2\n",
      "GDPN     2\n",
      "PPN      2\n",
      "APC      2\n",
      "NRM      2\n",
      "CNP      2\n",
      "NIP      2\n",
      "AGAP     2\n",
      "NDLP     2\n",
      "ANDP     2\n",
      "ANN      2\n",
      "AAC      2\n",
      "KP       2\n",
      "AA       2\n",
      "FJP      2\n",
      "BNPP     2\n",
      "UP       2\n",
      "PPA      2\n",
      "PT       2\n",
      "ACD      2\n",
      "NPC      2\n",
      "WTPN     2\n",
      "APGA     2\n",
      "AGA      2\n",
      "ANP      2\n",
      "ABP      2\n",
      "ASD      2\n",
      "LP       2\n",
      "A        2\n",
      "AAP      2\n",
      "        ..\n",
      "HDP      2\n",
      "DPP      2\n",
      "UDP      2\n",
      "FRESH    2\n",
      "ACPN     2\n",
      "DA       2\n",
      "SNC      2\n",
      "PPC      2\n",
      "APP      2\n",
      "CAP      2\n",
      "PDP      2\n",
      "PCP      2\n",
      "APA      2\n",
      "MPN      2\n",
      "NDCP     2\n",
      "LM       2\n",
      "YES      2\n",
      "NNPP     2\n",
      "NCMP     2\n",
      "AUN      2\n",
      "C4C      2\n",
      "ADP      2\n",
      "YPP      2\n",
      "NCP      2\n",
      "ADC      2\n",
      "MMN      2\n",
      "MAJA     2\n",
      "GPN      2\n",
      "DPC      2\n",
      "RBNP     2\n",
      "Name: PARTY, Length: 72, dtype: int64\n",
      "\n",
      "For column GENDER\n",
      "M    116\n",
      "F     28\n",
      "Name: GENDER, dtype: int64\n",
      "\n",
      "For column HIGHEST QUALIFICATION\n",
      "SSCE     26\n",
      "BSc      23\n",
      "PhD      17\n",
      "HND      13\n",
      "OND      12\n",
      "LLB      12\n",
      "BA       11\n",
      "MBA       6\n",
      "MSc       5\n",
      "NCE       5\n",
      "PGD       4\n",
      "MA        3\n",
      "LLM       3\n",
      "B.ENG     1\n",
      "MPH       1\n",
      "Btech     1\n",
      "BPHIL     1\n",
      "Name: HIGHEST QUALIFICATION, dtype: int64\n"
     ]
    }
   ],
   "source": [
    "columns=['POSITION', 'PARTY', 'GENDER', 'HIGHEST QUALIFICATION']\n",
    "def count_unique(df, cols):\n",
    "    for col in cols:\n",
    "        print('\\n' + 'For column ' + col)\n",
    "        print(df[col].value_counts())\n",
    "        \n",
    "count_unique(df, columns)"
   ]
  },
  {
   "cell_type": "code",
   "execution_count": 8,
   "metadata": {},
   "outputs": [],
   "source": [
    "qualification= {'SSCE': 'Secondary School Certificate', 'BSc': 'Bachelors', 'PhD':'Doctorate', 'HND':'Higher National Diploma',\n",
    "               'OND':'Ordinary National Diploma', 'LLB':'Bachelors','BA':'Bachelors', 'MBA':'Masters', 'MSc':'Masters',\n",
    "               'NCE':'College of Education', 'PGD':'Post Graduate Diploma', 'MA':'Masters','LLM':'Masters', 'BPHIL':'Bachelors',\n",
    "               'B.ENG':'Bachelors', 'Btech':'Bachelors','MPH':'Masters'}\n",
    "\n",
    "df['Qualification_new']=df['HIGHEST QUALIFICATION'].map({k:v for k,v in qualification.items()})"
   ]
  },
  {
   "cell_type": "code",
   "execution_count": 9,
   "metadata": {},
   "outputs": [
    {
     "data": {
      "text/plain": [
       "Bachelors                       49\n",
       "Secondary School Certificate    26\n",
       "Masters                         18\n",
       "Doctorate                       17\n",
       "Higher National Diploma         13\n",
       "Ordinary National Diploma       12\n",
       "College of Education             5\n",
       "Post Graduate Diploma            4\n",
       "Name: Qualification_new, dtype: int64"
      ]
     },
     "execution_count": 9,
     "metadata": {},
     "output_type": "execute_result"
    }
   ],
   "source": [
    "df['Qualification_new'].value_counts()"
   ]
  },
  {
   "cell_type": "code",
   "execution_count": 10,
   "metadata": {},
   "outputs": [
    {
     "data": {
      "text/html": [
       "<div>\n",
       "<style scoped>\n",
       "    .dataframe tbody tr th:only-of-type {\n",
       "        vertical-align: middle;\n",
       "    }\n",
       "\n",
       "    .dataframe tbody tr th {\n",
       "        vertical-align: top;\n",
       "    }\n",
       "\n",
       "    .dataframe thead th {\n",
       "        text-align: right;\n",
       "    }\n",
       "</style>\n",
       "<table border=\"1\" class=\"dataframe\">\n",
       "  <thead>\n",
       "    <tr style=\"text-align: right;\">\n",
       "      <th></th>\n",
       "      <th>POSITION</th>\n",
       "      <th>NAME OF CANDIDATE</th>\n",
       "      <th>PARTY</th>\n",
       "      <th>AGE</th>\n",
       "      <th>GENDER</th>\n",
       "      <th>HIGHEST QUALIFICATION</th>\n",
       "      <th>Qualification_new</th>\n",
       "    </tr>\n",
       "  </thead>\n",
       "  <tbody>\n",
       "    <tr>\n",
       "      <th>0</th>\n",
       "      <td>PRESIDENT</td>\n",
       "      <td>OSITELU  ISAAC BABATUNDE</td>\n",
       "      <td>A</td>\n",
       "      <td>64</td>\n",
       "      <td>M</td>\n",
       "      <td>MSc</td>\n",
       "      <td>Masters</td>\n",
       "    </tr>\n",
       "    <tr>\n",
       "      <th>1</th>\n",
       "      <td>VICE-</td>\n",
       "      <td>LAWAL NAFIU MUHAMMAD</td>\n",
       "      <td>A</td>\n",
       "      <td>33</td>\n",
       "      <td>M</td>\n",
       "      <td>BSc</td>\n",
       "      <td>Bachelors</td>\n",
       "    </tr>\n",
       "    <tr>\n",
       "      <th>2</th>\n",
       "      <td>PRESIDENT</td>\n",
       "      <td>ABDULRASHID HASSAN BABA</td>\n",
       "      <td>AA</td>\n",
       "      <td>46</td>\n",
       "      <td>M</td>\n",
       "      <td>SSCE</td>\n",
       "      <td>Secondary School Certificate</td>\n",
       "    </tr>\n",
       "    <tr>\n",
       "      <th>3</th>\n",
       "      <td>VICE-</td>\n",
       "      <td>UCHENDU UJU PEACE OZOKA</td>\n",
       "      <td>AA</td>\n",
       "      <td>49</td>\n",
       "      <td>F</td>\n",
       "      <td>LLB</td>\n",
       "      <td>Bachelors</td>\n",
       "    </tr>\n",
       "    <tr>\n",
       "      <th>4</th>\n",
       "      <td>PRESIDENT</td>\n",
       "      <td>OMOYELE SOWORE</td>\n",
       "      <td>AAC</td>\n",
       "      <td>47</td>\n",
       "      <td>M</td>\n",
       "      <td>SSCE</td>\n",
       "      <td>Secondary School Certificate</td>\n",
       "    </tr>\n",
       "    <tr>\n",
       "      <th>5</th>\n",
       "      <td>VICE-</td>\n",
       "      <td>RUFAI RABIU AHMED</td>\n",
       "      <td>AAC</td>\n",
       "      <td>42</td>\n",
       "      <td>M</td>\n",
       "      <td>MPH</td>\n",
       "      <td>Masters</td>\n",
       "    </tr>\n",
       "    <tr>\n",
       "      <th>6</th>\n",
       "      <td>PRESIDENT</td>\n",
       "      <td>CHIKE UKAEGBU</td>\n",
       "      <td>AAP</td>\n",
       "      <td>35</td>\n",
       "      <td>M</td>\n",
       "      <td>BSc</td>\n",
       "      <td>Bachelors</td>\n",
       "    </tr>\n",
       "    <tr>\n",
       "      <th>7</th>\n",
       "      <td>VICE-</td>\n",
       "      <td>SAFIYA IBRAHIM OGOH</td>\n",
       "      <td>AAP</td>\n",
       "      <td>47</td>\n",
       "      <td>F</td>\n",
       "      <td>BA</td>\n",
       "      <td>Bachelors</td>\n",
       "    </tr>\n",
       "    <tr>\n",
       "      <th>8</th>\n",
       "      <td>PRESIDENT</td>\n",
       "      <td>SHIPI MOSES GODIA</td>\n",
       "      <td>ABP</td>\n",
       "      <td>39</td>\n",
       "      <td>M</td>\n",
       "      <td>SSCE</td>\n",
       "      <td>Secondary School Certificate</td>\n",
       "    </tr>\n",
       "    <tr>\n",
       "      <th>9</th>\n",
       "      <td>VICE-</td>\n",
       "      <td>OKWUANYASI ABIOLA KIKA SHALIAT</td>\n",
       "      <td>ABP</td>\n",
       "      <td>44</td>\n",
       "      <td>F</td>\n",
       "      <td>BSc</td>\n",
       "      <td>Bachelors</td>\n",
       "    </tr>\n",
       "  </tbody>\n",
       "</table>\n",
       "</div>"
      ],
      "text/plain": [
       "    POSITION               NAME OF CANDIDATE PARTY  AGE GENDER  \\\n",
       "0  PRESIDENT        OSITELU  ISAAC BABATUNDE     A   64      M   \n",
       "1      VICE-            LAWAL NAFIU MUHAMMAD     A   33      M   \n",
       "2  PRESIDENT         ABDULRASHID HASSAN BABA    AA   46      M   \n",
       "3      VICE-         UCHENDU UJU PEACE OZOKA    AA   49      F   \n",
       "4  PRESIDENT                  OMOYELE SOWORE   AAC   47      M   \n",
       "5      VICE-               RUFAI RABIU AHMED   AAC   42      M   \n",
       "6  PRESIDENT                   CHIKE UKAEGBU   AAP   35      M   \n",
       "7      VICE-             SAFIYA IBRAHIM OGOH   AAP   47      F   \n",
       "8  PRESIDENT               SHIPI MOSES GODIA   ABP   39      M   \n",
       "9      VICE-  OKWUANYASI ABIOLA KIKA SHALIAT   ABP   44      F   \n",
       "\n",
       "  HIGHEST QUALIFICATION             Qualification_new  \n",
       "0                   MSc                       Masters  \n",
       "1                   BSc                     Bachelors  \n",
       "2                  SSCE  Secondary School Certificate  \n",
       "3                   LLB                     Bachelors  \n",
       "4                  SSCE  Secondary School Certificate  \n",
       "5                   MPH                       Masters  \n",
       "6                   BSc                     Bachelors  \n",
       "7                    BA                     Bachelors  \n",
       "8                  SSCE  Secondary School Certificate  \n",
       "9                   BSc                     Bachelors  "
      ]
     },
     "execution_count": 10,
     "metadata": {},
     "output_type": "execute_result"
    }
   ],
   "source": [
    "df.head(10)"
   ]
  },
  {
   "cell_type": "code",
   "execution_count": 11,
   "metadata": {},
   "outputs": [],
   "source": [
    "df.to_csv('Presidential data.csv')"
   ]
  },
  {
   "cell_type": "code",
   "execution_count": 12,
   "metadata": {},
   "outputs": [
    {
     "name": "stderr",
     "output_type": "stream",
     "text": [
      "C:\\Users\\kenny\\Anaconda3\\lib\\site-packages\\scipy\\stats\\stats.py:1713: FutureWarning: Using a non-tuple sequence for multidimensional indexing is deprecated; use `arr[tuple(seq)]` instead of `arr[seq]`. In the future this will be interpreted as an array index, `arr[np.array(seq)]`, which will result either in an error or a different result.\n",
      "  return np.add.reduce(sorted[indexer] * weights, axis=axis) / sumval\n"
     ]
    },
    {
     "data": {
      "text/plain": [
       "<matplotlib.axes._subplots.AxesSubplot at 0x1fe214def98>"
      ]
     },
     "execution_count": 12,
     "metadata": {},
     "output_type": "execute_result"
    },
    {
     "data": {
      "image/png": "[encoded data removed]",
      "text/plain": [
       "<Figure size 432x288 with 1 Axes>"
      ]
     },
     "metadata": {
      "needs_background": "light"
     },
     "output_type": "display_data"
    }
   ],
   "source": [
    "sns.distplot(df['AGE'], bins = 10, rug=True, hist = False)"
   ]
  },
  {
   "cell_type": "code",
   "execution_count": 13,
   "metadata": {},
   "outputs": [
    {
     "data": {
      "text/plain": [
       "<matplotlib.axes._subplots.AxesSubplot at 0x1fe215e8898>"
      ]
     },
     "execution_count": 13,
     "metadata": {},
     "output_type": "execute_result"
    },
    {
     "data": {
      "image/png": "[encoded data removed]",
      "text/plain": [
       "<Figure size 432x288 with 1 Axes>"
      ]
     },
     "metadata": {
      "needs_background": "light"
     },
     "output_type": "display_data"
    }
   ],
   "source": [
    "sns.boxplot(df['AGE'])"
   ]
  },
  {
   "cell_type": "code",
   "execution_count": 14,
   "metadata": {},
   "outputs": [
    {
     "data": {
      "text/plain": [
       "<matplotlib.axes._subplots.AxesSubplot at 0x1fe218cd390>"
      ]
     },
     "execution_count": 14,
     "metadata": {},
     "output_type": "execute_result"
    },
    {
     "data": {
      "image/png": "[encoded data removed]",
      "text/plain": [
       "<Figure size 432x288 with 1 Axes>"
      ]
     },
     "metadata": {
      "needs_background": "light"
     },
     "output_type": "display_data"
    }
   ],
   "source": [
    "sns.countplot(data=df, y='Qualification_new', hue='POSITION')"
   ]
  },
  {
   "cell_type": "code",
   "execution_count": 15,
   "metadata": {},
   "outputs": [
    {
     "data": {
      "text/plain": [
       "<matplotlib.axes._subplots.AxesSubplot at 0x1fe21961b38>"
      ]
     },
     "execution_count": 15,
     "metadata": {},
     "output_type": "execute_result"
    },
    {
     "data": {
      "image/png": "[encoded data removed]",
      "text/plain": [
       "<Figure size 432x288 with 1 Axes>"
      ]
     },
     "metadata": {
      "needs_background": "light"
     },
     "output_type": "display_data"
    }
   ],
   "source": [
    "sns.countplot(data=df, y='Qualification_new', hue='GENDER')"
   ]
  },
  {
   "cell_type": "code",
   "execution_count": 16,
   "metadata": {},
   "outputs": [],
   "source": [
    "president=df[df['POSITION']=='PRESIDENT']\n",
    "vice= df[df['POSITION']=='VICE-']"
   ]
  },
  {
   "cell_type": "code",
   "execution_count": 17,
   "metadata": {},
   "outputs": [
    {
     "data": {
      "text/plain": [
       "<matplotlib.axes._subplots.AxesSubplot at 0x1fe219eb080>"
      ]
     },
     "execution_count": 17,
     "metadata": {},
     "output_type": "execute_result"
    },
    {
     "data": {
      "image/png": "[encoded data removed]",
      "text/plain": [
       "<Figure size 432x288 with 1 Axes>"
      ]
     },
     "metadata": {
      "needs_background": "light"
     },
     "output_type": "display_data"
    }
   ],
   "source": [
    "sns.distplot(president['AGE'], bins = 10, rug=True, hist = False)"
   ]
  },
  {
   "cell_type": "code",
   "execution_count": 18,
   "metadata": {},
   "outputs": [
    {
     "data": {
      "text/plain": [
       "<matplotlib.axes._subplots.AxesSubplot at 0x1fe214cc208>"
      ]
     },
     "execution_count": 18,
     "metadata": {},
     "output_type": "execute_result"
    },
    {
     "data": {
      "image/png": "[encoded data removed]",
      "text/plain": [
       "<Figure size 432x288 with 1 Axes>"
      ]
     },
     "metadata": {
      "needs_background": "light"
     },
     "output_type": "display_data"
    }
   ],
   "source": [
    "sns.distplot(vice['AGE'], bins = 10, rug=True, hist = False)"
   ]
  },
  {
   "cell_type": "markdown",
   "metadata": {},
   "source": [
    "Other Visualizations were done using Power BI"
   ]
  },
  {
   "cell_type": "code",
   "execution_count": null,
   "metadata": {},
   "outputs": [],
   "source": []
  }
 ],
 "metadata": {
  "kernelspec": {
   "display_name": "Python 3",
   "language": "python",
   "name": "python3"
  },
  "language_info": {
   "codemirror_mode": {
    "name": "ipython",
    "version": 3
   },
   "file_extension": ".py",
   "mimetype": "text/x-python",
   "name": "python",
   "nbconvert_exporter": "python",
   "pygments_lexer": "ipython3",
   "version": "3.6.7"
  }
 },
 "nbformat": 4,
 "nbformat_minor": 2
}
